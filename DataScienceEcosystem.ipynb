{
 "cells": [
  {
   "cell_type": "markdown",
   "id": "bf937ee7",
   "metadata": {},
   "source": [
    "# H1: DataScienceEcosystem"
   ]
  },
  {
   "cell_type": "markdown",
   "id": "7daf5c33",
   "metadata": {},
   "source": [
    "In this notebook, Data Science Tools and Ecosystem are summarized."
   ]
  },
  {
   "cell_type": "markdown",
   "id": "d140adca",
   "metadata": {},
   "source": [
    "# Some of the popular languages that Data Scientists use are:\n",
    "    1. Python\n",
    "    2. SQL\n",
    "    3. R\n",
    "    4. Excel"
   ]
  },
  {
   "cell_type": "markdown",
   "id": "cfcedd07",
   "metadata": {},
   "source": [
    "**Objective**\n",
    ".Python\n",
    ".Jupyter\n",
    ".R"
   ]
  },
  {
   "cell_type": "markdown",
   "id": "d389c8d2",
   "metadata": {},
   "source": [
    "# Some of the commonly used libraries by data scientists include:\n",
    "    1. Numpy\n",
    "    2. Pandas\n",
    "    3. PyTorch\n",
    "    4. SciPy\n",
    "    5. Keras"
   ]
  },
  {
   "cell_type": "markdown",
   "id": "d28517fd",
   "metadata": {},
   "source": [
    "|Data Science Tools|\n",
    "|------------------|\n",
    "|RStudio|\n",
    "|Apache|\n",
    "|Tensorflow|"
   ]
  },
  {
   "cell_type": "markdown",
   "id": "e5aa3038",
   "metadata": {},
   "source": [
    "### H3 Below are a few examples of evaluating arithmetic expressions in Python\n",
    "a<- 3\n",
    "b<- 2"
   ]
  },
  {
   "cell_type": "code",
   "execution_count": 5,
   "id": "be75412d",
   "metadata": {},
   "outputs": [
    {
     "data": {
      "text/plain": [
       "17"
      ]
     },
     "execution_count": 5,
     "metadata": {},
     "output_type": "execute_result"
    }
   ],
   "source": [
    "#This a simple arithmetic expression to mutiply then add integers\n",
    "(3*4)+5"
   ]
  },
  {
   "cell_type": "code",
   "execution_count": 11,
   "id": "b144d59a",
   "metadata": {},
   "outputs": [
    {
     "data": {
      "text/plain": [
       "3.3333333333333335"
      ]
     },
     "execution_count": 11,
     "metadata": {},
     "output_type": "execute_result"
    }
   ],
   "source": [
    "# This will convert 200 minutes to hours by diving by 60\n",
    "200/60"
   ]
  },
  {
   "cell_type": "markdown",
   "id": "67507d8a",
   "metadata": {},
   "source": [
    "## H2 Author\n",
    "Prakash Mani Tripathi"
   ]
  }
 ],
 "metadata": {
  "kernelspec": {
   "display_name": "Python 3 (ipykernel)",
   "language": "python",
   "name": "python3"
  },
  "language_info": {
   "codemirror_mode": {
    "name": "ipython",
    "version": 3
   },
   "file_extension": ".py",
   "mimetype": "text/x-python",
   "name": "python",
   "nbconvert_exporter": "python",
   "pygments_lexer": "ipython3",
   "version": "3.11.4"
  }
 },
 "nbformat": 4,
 "nbformat_minor": 5
}
